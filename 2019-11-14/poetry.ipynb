{
 "cells": [
  {
   "cell_type": "markdown",
   "metadata": {},
   "source": [
    "# Producing Pretty and Practical Python Packages Per Poetry!"
   ]
  },
  {
   "cell_type": "markdown",
   "metadata": {},
   "source": [
    "## What is packaging?\n",
    "\n",
    "A module is a single python file. \n",
    "\n",
    "A package is an organised collection of modules. \n",
    "\n",
    "Generally, they are also pip installable (more on this later)"
   ]
  },
  {
   "cell_type": "markdown",
   "metadata": {},
   "source": [
    "## But I'm not planning on distributing my project on PyPi! Why should I bother packaging?\n",
    "\n",
    "Couple of reasons!\n",
    "\n",
    "1. Reproducibility: if you follow good packaging practices, your work will be more transparent and reproducible.\n",
    "1. Ease of sharing: Need to share code with your collaborators? Have them clone it, and run `pip install -e.`\n",
    "1. Development: Should your project develop into a distributable tool, you'll already be ready to go!"
   ]
  },
  {
   "cell_type": "markdown",
   "metadata": {},
   "source": [
    "## Isn't packaging hard?\n",
    "\n",
    "Nope! It can be a bit confusing at times, though. The Python community as a whole has been a bit slow on adopting [Conda](https://docs.conda.io/en/latest/). Additionally, addoption of [Pep 517](https://www.python.org/dev/peps/pep-0517/) and [PEP 518](https://www.python.org/dev/peps/pep-0518) is still on going! \n",
    "\n",
    "Fortunately, there are a number of tools that simplify the process! I'll be focusing on [Poetry](https://poetry.eustace.io/)."
   ]
  },
  {
   "cell_type": "code",
   "execution_count": 2,
   "metadata": {},
   "outputs": [
    {
     "name": "stdout",
     "output_type": "stream",
     "text": [
      "python: can't open file 'get-poetry.py': [Errno 2] No such file or directory\n"
     ]
    }
   ],
   "source": [
    "!python get-poetry.py --preview"
   ]
  },
  {
   "cell_type": "code",
   "execution_count": null,
   "metadata": {},
   "outputs": [],
   "source": []
  }
 ],
 "metadata": {
  "kernelspec": {
   "display_name": "Python 3",
   "language": "python",
   "name": "python3"
  },
  "language_info": {
   "codemirror_mode": {
    "name": "ipython",
    "version": 3
   },
   "file_extension": ".py",
   "mimetype": "text/x-python",
   "name": "python",
   "nbconvert_exporter": "python",
   "pygments_lexer": "ipython3",
   "version": "3.7.3"
  }
 },
 "nbformat": 4,
 "nbformat_minor": 4
}
