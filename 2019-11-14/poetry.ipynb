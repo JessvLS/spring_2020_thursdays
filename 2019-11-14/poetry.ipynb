{
 "cells": [
  {
   "cell_type": "markdown",
   "metadata": {},
   "source": [
    "# Producing Pretty and Practical Python Packages Per Poetry!"
   ]
  },
  {
   "cell_type": "markdown",
   "metadata": {},
   "source": [
    "## What is packaging?\n",
    "\n",
    "A module is a single python file. \n",
    "\n",
    "A package is an organised collection of modules. \n",
    "\n",
    "Generally, they are also pip installable (more on this later)"
   ]
  },
  {
   "cell_type": "markdown",
   "metadata": {},
   "source": [
    "## But I'm not planning on distributing my project on PyPi! Why should I bother packaging?\n",
    "\n",
    "Couple of reasons!\n",
    "\n",
    "1. Reproducibility: if you follow good packaging practices, your work will be more transparent and reproducible.\n",
    "1. Ease of sharing: Need to share code with your collaborators? Have them clone it, and run `pip install -e.`\n",
    "1. Development: Should your project develop into a distributable tool, you'll already be ready to go!"
   ]
  },
  {
   "cell_type": "markdown",
   "metadata": {},
   "source": [
    "## Isn't packaging hard?\n",
    "\n",
    "Nope! It can be a bit confusing at times, though. The Python community as a whole has been a bit slow on adopting [Conda](https://docs.conda.io/en/latest/). Additionally, addoption of [Pep 517](https://www.python.org/dev/peps/pep-0517/) and [PEP 518](https://www.python.org/dev/peps/pep-0518) is still on going! \n",
    "\n",
    "Fortunately, there are a number of tools that simplify the process! I'll be focusing on [Poetry](https://poetry.eustace.io/)."
   ]
  },
  {
   "cell_type": "markdown",
   "metadata": {},
   "source": [
    "## Let's get Poetry!\n",
    "\n",
    "To do so, we need to run the get-poetry script. We are adding the `--preview` flag to install version 1.0.0, which has some very useful features over the current released version - namely, it plays better with `conda`.\n",
    "\n",
    "First, make sure your working directory is `fall2019/2019-11-14`."
   ]
  },
  {
   "cell_type": "code",
   "execution_count": 1,
   "metadata": {},
   "outputs": [
    {
     "name": "stdout",
     "output_type": "stream",
     "text": [
      "/home/rbpatt2019/PyProjects/fall2019/2019-11-14\n"
     ]
    }
   ],
   "source": [
    "!pwd"
   ]
  },
  {
   "cell_type": "markdown",
   "metadata": {},
   "source": [
    "Now, run the installer. It will walk you through a few prompts to guide the installation."
   ]
  },
  {
   "cell_type": "code",
   "execution_count": 3,
   "metadata": {},
   "outputs": [
    {
     "name": "stdout",
     "output_type": "stream",
     "text": [
      "Retrieving Poetry metadata\n",
      "\n",
      "# Welcome to Poetry!\n",
      "\n",
      "This will download and install the latest version of Poetry,\n",
      "a dependency and package manager for Python.\n",
      "\n",
      "It will add the `poetry` command to Poetry's bin directory, located at:\n",
      "\n",
      "$HOME/.poetry/bin\n",
      "\n",
      "This path will then be added to your `PATH` environment variable by\n",
      "modifying the profile files located at:\n",
      "\n",
      "$HOME/.profile\n",
      "$HOME/.bash_profile\n",
      "\n",
      "You can uninstall at any time with `poetry self:uninstall`,\n",
      "or by executing this script with the --uninstall option,\n",
      "and these changes will be reverted.\n",
      "\n",
      "Installing version: 1.0.0b3\n",
      "  - Downloading poetry-1.0.0b3-linux.tar.gz (27.81MB)\n",
      "\n",
      "Poetry (1.0.0b3) is installed now. Great!\n",
      "\n",
      "To get started you need Poetry's bin directory ($HOME/.poetry/bin) in your `PATH`\n",
      "environment variable. Next time you log in this will be done\n",
      "automatically.\n",
      "\n",
      "To configure your current shell run `source $HOME/.poetry/env`\n",
      "\n"
     ]
    }
   ],
   "source": [
    "%run get_poetry.py --preview"
   ]
  },
  {
   "cell_type": "markdown",
   "metadata": {},
   "source": [
    "And let's check the help page to make sure everything installed correctly..."
   ]
  },
  {
   "cell_type": "code",
   "execution_count": 5,
   "metadata": {},
   "outputs": [
    {
     "name": "stdout",
     "output_type": "stream",
     "text": [
      "Poetry version \u001b[36m1.0.0b3\u001b[0m\n",
      "\n",
      "\u001b[1mUSAGE\u001b[0m\n",
      "  \u001b[4mpoetry\u001b[0m [-h] [-q] [-v [<...>]] [-V] [--ansi] [--no-ansi] [-n] <command>\n",
      "         [<arg1>] ... [<argN>]\n",
      "\n",
      "\u001b[1mARGUMENTS\u001b[0m\n",
      "  \u001b[36m<command>\u001b[0m              The command to execute\n",
      "  \u001b[36m<arg>\u001b[0m                  The arguments of the command\n",
      "\n",
      "\u001b[1mGLOBAL OPTIONS\u001b[0m\n",
      "  \u001b[36m-h\u001b[0m (--help)            Display this help message\n",
      "  \u001b[36m-q\u001b[0m (--quiet)           Do not output any message\n",
      "  \u001b[36m-v\u001b[0m (--verbose)         Increase the verbosity of messages: \"-v\" for normal\n",
      "                         output, \"-vv\" for more verbose output and \"-vvv\" for\n",
      "                         debug\n",
      "  \u001b[36m-V\u001b[0m (--version)         Display this application version\n",
      "  \u001b[36m--ansi\u001b[0m                 Force ANSI output\n",
      "  \u001b[36m--no-ansi\u001b[0m              Disable ANSI output\n",
      "  \u001b[36m-n\u001b[0m (--no-interaction)  Do not ask any interactive question\n",
      "\n",
      "\u001b[1mAVAILABLE COMMANDS\u001b[0m\n",
      "  \u001b[36mabout\u001b[0m                  Shows information about Poetry.\n",
      "  \u001b[36madd\u001b[0m                    Adds a new dependency to \u001b[32mpyproject.toml\u001b[0m.\n",
      "  \u001b[36mbuild\u001b[0m                  Builds a package, as a tarball and a wheel by default.\n",
      "  \u001b[36mcache\u001b[0m                  Interact with Poetry's cache\n",
      "  \u001b[36mcheck\u001b[0m                  Checks the validity of the\n",
      "                         \u001b[32mpyproject.toml\u001b[0m file.\n",
      "  \u001b[36mconfig\u001b[0m                 Manages configuration settings.\n",
      "  \u001b[36mdebug\u001b[0m                  Debug various elements of Poetry.\n",
      "  \u001b[36menv\u001b[0m                    Interact with Poetry's project environments.\n",
      "  \u001b[36mexport\u001b[0m                 Exports the lock file to alternative formats.\n",
      "  \u001b[36mhelp\u001b[0m                   Display the manual of a command\n",
      "  \u001b[36minit\u001b[0m                   Creates a basic \u001b[32mpyproject.toml\u001b[0m file in the\n",
      "                         current directory.\n",
      "  \u001b[36minstall\u001b[0m                Installs the project dependencies.\n",
      "  \u001b[36mlock\u001b[0m                   Locks the project dependencies.\n",
      "  \u001b[36mnew\u001b[0m                    Creates a new Python project at <path>.\n",
      "  \u001b[36mpublish\u001b[0m                Publishes a package to a remote repository.\n",
      "  \u001b[36mremove\u001b[0m                 Removes a package from the project dependencies.\n",
      "  \u001b[36mrun\u001b[0m                    Runs a command in the appropriate environment.\n",
      "  \u001b[36msearch\u001b[0m                 Searches for packages on remote repositories.\n",
      "  \u001b[36mself\u001b[0m                   Interact with Poetry directly.\n",
      "  \u001b[36mshell\u001b[0m                  Spawns a shell within the virtual environment.\n",
      "  \u001b[36mshow\u001b[0m                   Shows information about packages.\n",
      "  \u001b[36mupdate\u001b[0m                 Update the dependencies as according to the\n",
      "                         \u001b[32mpyproject.toml\u001b[0m file.\n",
      "  \u001b[36mversion\u001b[0m                Shows the version of the project or bumps it when a\n",
      "                         validbump rule is provided.\n",
      "\n"
     ]
    }
   ],
   "source": [
    "!poetry --help"
   ]
  },
  {
   "cell_type": "markdown",
   "metadata": {},
   "source": [
    "## Creating a new project\n",
    "\n",
    "Now that we have `poetry` installed, let's get started with our package! First we need to create a new package."
   ]
  },
  {
   "cell_type": "code",
   "execution_count": null,
   "metadata": {},
   "outputs": [],
   "source": []
  },
  {
   "cell_type": "code",
   "execution_count": null,
   "metadata": {},
   "outputs": [],
   "source": []
  }
 ],
 "metadata": {
  "kernelspec": {
   "display_name": "Python 3",
   "language": "python",
   "name": "python3"
  },
  "language_info": {
   "codemirror_mode": {
    "name": "ipython",
    "version": 3
   },
   "file_extension": ".py",
   "mimetype": "text/x-python",
   "name": "python",
   "nbconvert_exporter": "python",
   "pygments_lexer": "ipython3",
   "version": "3.7.3"
  }
 },
 "nbformat": 4,
 "nbformat_minor": 4
}
