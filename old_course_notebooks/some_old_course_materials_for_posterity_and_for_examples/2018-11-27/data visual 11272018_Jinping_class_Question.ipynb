{
 "cells": [
  {
   "cell_type": "markdown",
   "metadata": {},
   "source": [
    "# Outline:\n",
    "Visualization libraries:\n",
    "Matplotlib;\n",
    "Seaborn;\n",
    "\n",
    "Figures:\n",
    "Simple pyplot;\n",
    "Scater plot;\n",
    "Bubble plot;\n",
    "Histogram; \n",
    "Density plot;    \n",
    "Violin plot;     # distribution and comparison\n",
    "Heatmap;         # relationship and comparison\n",
    "\n",
    "Add-ons:\n",
    "Shape; \n",
    "Color;\n",
    "Transparent;\n",
    "Legend; \n",
    "Scale; \n",
    "Multiple plot;   # plot pairwise relaitonships\n",
    "Cluster methods; \n",
    "\n",
    "\n",
    "Materials: \n",
    "Matplotlib tutorials : https://matplotlib.org/tutorials/introductory/pyplot.html#plotting-with-categorical-variables\n",
    "Visualization with Matplotlib: https://www.oreilly.com/library/view/python-data-science/9781491912126/ch04.html\n",
    "Python graph gallery: https://python-graph-gallery.com/50-basic-violinplot-and-input-formats/\n",
    "Export figures as PDF files"
   ]
  },
  {
   "cell_type": "code",
   "execution_count": null,
   "metadata": {},
   "outputs": [],
   "source": [
    "#load the libraries \n",
    "import matplotlib.pyplot as plt\n",
    "import seaborn as sns\n",
    "\n",
    "import pandas as pd\n",
    "import numpy as np"
   ]
  },
  {
   "cell_type": "markdown",
   "metadata": {},
   "source": [
    "matplotlib simple pyplot "
   ]
  },
  {
   "cell_type": "code",
   "execution_count": null,
   "metadata": {
    "scrolled": true
   },
   "outputs": [],
   "source": [
    "#x, y  [1, 2, 3, 4], [1, 4, 9, 16] plt.plot() plt.ylabel(), plt.xlabel(), plt.show()\n",
    "\n"
   ]
  },
  {
   "cell_type": "markdown",
   "metadata": {},
   "source": [
    "scatter plot: shape & color"
   ]
  },
  {
   "cell_type": "code",
   "execution_count": null,
   "metadata": {},
   "outputs": [],
   "source": [
    "#scatter plot ,'ro'\n"
   ]
  },
  {
   "cell_type": "code",
   "execution_count": null,
   "metadata": {
    "scrolled": false
   },
   "outputs": [],
   "source": [
    "#multi-data scatter plot\n",
    "#np.arrage(start, stop, step) Return evenly spaced values within a given interval.\n",
    "t1 = np.arange(0, 5, 0.2)\n",
    "t2 = t1**2\n",
    "t3 = t1**3\n",
    "\n",
    "#red dashes, blue squares and green triangles\n",
    "#color and shape: 'r--'; 'bs'; 'g^',  label = ''\n",
    "#plt.legend (loc = 'upper left'), \n"
   ]
  },
  {
   "cell_type": "markdown",
   "metadata": {},
   "source": [
    "Bubble plot: scatter plot with size and color"
   ]
  },
  {
   "cell_type": "code",
   "execution_count": null,
   "metadata": {
    "scrolled": false
   },
   "outputs": [],
   "source": [
    "#data\n",
    "#np.arange(stop)\n",
    "#np.random.randint(low, high, size) Return random integers from low (inclusive) to high (exclusive).\n",
    "#np.random.randn(n)                 Return samples from the “standard normal” distribution\n",
    "#np.abs\n",
    "data = {'a': np.arange(50),\n",
    "        'c': np.random.randint(0, 50, 50),\n",
    "        'd': np.random.randn(50)}\n",
    "data['b'] = data['a'] + 10 * np.random.randn(50)\n",
    "data['d'] = np.abs(data['d']) * 100\n",
    "\n",
    "#plt.scatter(), x = 'a'; y ='b', c='c', s='d', data= data, alpha = 0.6 #alpha for transparency\n",
    "\n",
    "#plt.xlabel('a') #plt.ylabel('b') #plt.colorbar();  #show color scale #plt.show()"
   ]
  },
  {
   "cell_type": "markdown",
   "metadata": {},
   "source": [
    "Histograms, Binnings, and Density"
   ]
  },
  {
   "cell_type": "code",
   "execution_count": null,
   "metadata": {},
   "outputs": [],
   "source": [
    "#np.random.randn\n",
    "data = np.random.randn(2000)   "
   ]
  },
  {
   "cell_type": "code",
   "execution_count": null,
   "metadata": {},
   "outputs": [],
   "source": [
    "#white background plt.style.use('seaborn-white')\n",
    "\n",
    "#histogram plt.hist(data)\n",
    "\n"
   ]
  },
  {
   "cell_type": "code",
   "execution_count": null,
   "metadata": {},
   "outputs": [],
   "source": [
    "#Binings data, bins = , density=True, alpha=0.5, color='steelblue', edgecolor='darkblue', plt.show()\n"
   ]
  },
  {
   "cell_type": "code",
   "execution_count": null,
   "metadata": {},
   "outputs": [],
   "source": [
    "#three datasets histogram overlay \n",
    "#data  np.random.normal()\n",
    "x1 = np.random.normal(0, 0.8, 1000)\n",
    "x2 = np.random.normal(-2, 1, 1000)\n",
    "x3 = np.random.normal(3, 2, 1000)\n",
    "\n",
    "kwargs = dict(bins=40,\n",
    "              histtype='stepfilled', \n",
    "              alpha=0.3, \n",
    "              density=True)\n",
    "\n",
    "# *; **; *args; **kwargs : https://www.agiliq.com/blog/2012/06/understanding-args-and-kwargs/\n",
    "#single star *: unpacking the values in the list. For using * in the function call, we required a list/tuple\n",
    "#*args inside a function definition\n",
    "#double star **: inside the function call of a dictionary. For using ** in the function call, we require a dictionary\n",
    "#with **kwargs, it can take any number of keyword arguments. Let’s see some examples\n",
    "\n",
    "#plt.hist(x1, **kwargs) x2, x3 plt.show()\n",
    "\n"
   ]
  },
  {
   "cell_type": "code",
   "execution_count": null,
   "metadata": {
    "scrolled": true
   },
   "outputs": [],
   "source": [
    "#three datasets density plot seanborn library: sns.kdeplot\n",
    "# p1=sns.kdeplot(x1, shade=True, label = 'x1'), layers:x1 -> x2, x3, plt.legend(loc='upper left')\n"
   ]
  },
  {
   "cell_type": "markdown",
   "metadata": {},
   "source": [
    "Violinplot distribution for multiple groups"
   ]
  },
  {
   "cell_type": "code",
   "execution_count": null,
   "metadata": {},
   "outputs": [],
   "source": [
    "# library & dataset import seaborn as sns\n",
    "#seanborn iris flower dataset\n",
    "df = sns.load_dataset('iris')\n",
    "df.head()"
   ]
  },
  {
   "cell_type": "code",
   "execution_count": null,
   "metadata": {},
   "outputs": [],
   "source": [
    "# Unique species  \n",
    "np.unique(df['species'])"
   ]
  },
  {
   "cell_type": "code",
   "execution_count": null,
   "metadata": {},
   "outputs": [],
   "source": [
    "# Violin plot: sns.violinplot(x, y) shows data distrubution x= None, y= df[\"sepal_length\"] \n",
    "\n",
    "#sns.violinplot(x, y)\n"
   ]
  },
  {
   "cell_type": "code",
   "execution_count": null,
   "metadata": {
    "scrolled": true
   },
   "outputs": [],
   "source": [
    "# plot several groups compare values x=df[\"species\"], y=df[\"sepal_length\"]\n"
   ]
  },
  {
   "cell_type": "code",
   "execution_count": null,
   "metadata": {},
   "outputs": [],
   "source": [
    "# Load dataset: sns.load_dataset(\"tips\")\n",
    "tips = sns.load_dataset(\"tips\")\n",
    "tips.head(5)"
   ]
  },
  {
   "cell_type": "code",
   "execution_count": null,
   "metadata": {},
   "outputs": [],
   "source": [
    "#pairing boxplot sns.boxplot() x=\"day\", y=\"total_bill\", hue=\"smoker\",data=tips\n"
   ]
  },
  {
   "cell_type": "code",
   "execution_count": null,
   "metadata": {},
   "outputs": [],
   "source": [
    "#pairing violinplot sns.violinplot\n"
   ]
  },
  {
   "cell_type": "code",
   "execution_count": null,
   "metadata": {},
   "outputs": [],
   "source": [
    "#sns.set()\n",
    "sns.set(style=\"whitegrid\", #style background \n",
    "        palette=\"pastel\",  # color palette range\n",
    "        color_codes=True)  #If True and palette is a seaborn palette\n",
    "       \n",
    "# Draw a nested violinplot\n",
    "#split the violins for easier comparison\n",
    "#add split=True,   #split to True will draw half of a violin for each level\n",
    "#add inner=\"quartile\",#{“box”, “quartile”, “point”, “stick”, None}\n",
    "#add palette={\"Yes\": \"y\", \"No\": \"b\"},\n",
    "#plt.legend(loc = 'upper left')\n"
   ]
  },
  {
   "cell_type": "code",
   "execution_count": null,
   "metadata": {},
   "outputs": [],
   "source": [
    "#chage color through palette: palette={\"Yes\": \"lightblue\", \"No\": \"lightpink\"} \n"
   ]
  },
  {
   "cell_type": "markdown",
   "metadata": {},
   "source": [
    "Boxplot"
   ]
  },
  {
   "cell_type": "markdown",
   "metadata": {},
   "source": [
    "Multiple plots: Plot pairwise relationships in a dataset: https://seaborn.pydata.org/generated/seaborn.pairplot.html"
   ]
  },
  {
   "cell_type": "code",
   "execution_count": null,
   "metadata": {
    "scrolled": false
   },
   "outputs": [],
   "source": [
    "iris = sns.load_dataset(\"iris\")\n",
    "iris.head()"
   ]
  },
  {
   "cell_type": "code",
   "execution_count": null,
   "metadata": {
    "scrolled": false
   },
   "outputs": [],
   "source": [
    "#sns.pairplot() iris, hue='species', size=2.5\n"
   ]
  },
  {
   "cell_type": "markdown",
   "metadata": {},
   "source": [
    "Heatmap: Plot a matrix dataset for hierarchical cluster -\n",
    "similarity and dissimilarity\n",
    "sns.clustermap :https://seaborn.pydata.org/generated/seaborn.clustermap.html"
   ]
  },
  {
   "cell_type": "code",
   "execution_count": null,
   "metadata": {
    "scrolled": true
   },
   "outputs": [],
   "source": [
    "# Data set\n",
    "url = 'https://python-graph-gallery.com/wp-content/uploads/mtcars.csv'\n",
    "df = pd.read_csv(url)\n",
    "df = df.set_index('model')\n",
    "df.head(5)"
   ]
  },
  {
   "cell_type": "markdown",
   "metadata": {},
   "source": [
    "clustering and segmentation in 9 steps:  https://inseaddataanalytics.github.io/INSEADAnalytics/CourseSessions/Sessions45/ClusterAnalysisReading.html#step_2:_scale_the_data\n",
    "Step 1: Confirm data is metric/numeric\n",
    "Step 2: Scale the data\n",
    "Step 3: Select Segmentation Variables # which variables to use for clustering is a critically important decision\n",
    "Step 4: Define similarity measure\n",
    "Step 5: Visualize Pair-wise Distances\n",
    "Step 6: Method and Number of Segments # Kmeans Clustering Method, and the Hierarchical Clustering Method\n",
    "Step 7: Profile and interpret the segments\n",
    "Step 8: Robustness Analysis"
   ]
  },
  {
   "cell_type": "code",
   "execution_count": null,
   "metadata": {},
   "outputs": [],
   "source": [
    "# Default plot sns.clustermap()\n"
   ]
  },
  {
   "cell_type": "code",
   "execution_count": null,
   "metadata": {},
   "outputs": [],
   "source": [
    "# scale the data : standardize or z-score\n",
    "# Scale Method1: Standardize\n",
    "#standard_scale 1 (columns), subtract the minimum and divide each by its maximum: standard_scale=1\n"
   ]
  },
  {
   "cell_type": "code",
   "execution_count": null,
   "metadata": {},
   "outputs": [],
   "source": [
    "# Scale Method2: z-score\n",
    "#z_score 1 (columns) z = (x - mean)/std, standardizing scores on the same scale: z_score=1\n",
    "#https://corporatefinanceinstitute.com/resources/excel/functions/z-score-standardize-function/\n"
   ]
  },
  {
   "cell_type": "code",
   "execution_count": null,
   "metadata": {},
   "outputs": [],
   "source": [
    "#Distance between ind\n",
    "# OK now we can compare our individuals. But how do you determine the similarity between 2 cars\n",
    "# There are different solutions for measuring the distance between observations in order to define clusters. \n",
    "# the two most common ways are: correlation and euclidean distance: metric=\"correlation\" or metric=\"euclidean\"\n",
    "#defaut cluster methods\n",
    "#https://journals.ametsoc.org/doi/full/10.1175/1520-0493%282001%29129%3C0540%3AEDAASM%3E2.0.CO%3B2\n"
   ]
  },
  {
   "cell_type": "code",
   "execution_count": null,
   "metadata": {},
   "outputs": [],
   "source": [
    "# Cluster methods\n",
    "# OK now we determined the distance between 2 individuals. But how to do the clusterisation. Several methods exist.\n",
    "# If you have no idea, ward is probably a good start.\n",
    "# Single linkage : minimum distance  : method=\"single\n",
    "# Complete linkage : maximum distance\n",
    "# Average linkage : average distance\n",
    "# Centroid method : distance between cetres\n",
    "# Wards method : minimization of within-cluster variance :method=\"ward\"\n",
    "# define cluster methods\n"
   ]
  },
  {
   "cell_type": "code",
   "execution_count": null,
   "metadata": {},
   "outputs": [],
   "source": [
    "#color\n",
    "# CHange color palette\n",
    "#cmap cmap=\"mako\" or cmap=\"viridis\" or cmap=\"Blues\"\n"
   ]
  },
  {
   "cell_type": "code",
   "execution_count": null,
   "metadata": {},
   "outputs": [],
   "source": [
    "df.cyl.unique()"
   ]
  },
  {
   "cell_type": "code",
   "execution_count": null,
   "metadata": {
    "scrolled": false
   },
   "outputs": [],
   "source": [
    "# Prepare a vector of color mapped to the 'cyl' column\n",
    "my_palette = dict(zip(df.cyl.unique(), [\"orange\",\"yellow\",\"brown\"])) #zip two lists together\n",
    "row_colors = df.cyl.map(my_palette)\n",
    " \n",
    "# plot\n",
    "sns.clustermap(df, \n",
    "               metric=\"correlation\", \n",
    "               method=\"single\", \n",
    "               cmap=\"Blues\", \n",
    "               standard_scale=1, \n",
    "               row_colors=row_colors)\n",
    "plt.show()"
   ]
  }
 ],
 "metadata": {
  "kernelspec": {
   "display_name": "Python 3",
   "language": "python",
   "name": "python3"
  },
  "language_info": {
   "codemirror_mode": {
    "name": "ipython",
    "version": 3
   },
   "file_extension": ".py",
   "mimetype": "text/x-python",
   "name": "python",
   "nbconvert_exporter": "python",
   "pygments_lexer": "ipython3",
   "version": "3.7.0"
  }
 },
 "nbformat": 4,
 "nbformat_minor": 2
}
