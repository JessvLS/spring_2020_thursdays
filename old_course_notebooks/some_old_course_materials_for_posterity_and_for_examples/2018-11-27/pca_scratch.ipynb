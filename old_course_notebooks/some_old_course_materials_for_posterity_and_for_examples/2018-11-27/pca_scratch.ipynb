{
 "cells": [
  {
   "cell_type": "code",
   "execution_count": 1,
   "metadata": {},
   "outputs": [],
   "source": [
    "from sklearn.decomposition import PCA\n",
    "import seaborn as sns\n",
    "import altair as alt\n",
    "import pandas as pd"
   ]
  },
  {
   "cell_type": "code",
   "execution_count": 2,
   "metadata": {},
   "outputs": [
    {
     "data": {
      "text/plain": [
       "pandas.core.frame.DataFrame"
      ]
     },
     "execution_count": 2,
     "metadata": {},
     "output_type": "execute_result"
    }
   ],
   "source": [
    "iris = sns.load_dataset(\"iris\")\n",
    "type(iris)"
   ]
  },
  {
   "cell_type": "code",
   "execution_count": 3,
   "metadata": {},
   "outputs": [],
   "source": [
    "cols = iris.columns\n",
    "data = iris[cols[:-1]].values # convert the data to a NumPy array for sklearn\n",
    "\n",
    "pca = PCA(2)\n",
    "projected = pca.fit_transform(data)"
   ]
  },
  {
   "cell_type": "code",
   "execution_count": 4,
   "metadata": {},
   "outputs": [],
   "source": [
    "df = pd.DataFrame(projected, columns=['x','y'])"
   ]
  },
  {
   "cell_type": "code",
   "execution_count": 5,
   "metadata": {},
   "outputs": [],
   "source": [
    "df = pd.concat([iris,df], axis=1)"
   ]
  },
  {
   "cell_type": "code",
   "execution_count": 6,
   "metadata": {},
   "outputs": [
    {
     "data": {
      "text/plain": [
       "<matplotlib.axes._subplots.AxesSubplot at 0x1a1155b470>"
      ]
     },
     "execution_count": 6,
     "metadata": {},
     "output_type": "execute_result"
    },
    {
     "data": {
      "image/png": "[encoded data removed]",
      "text/plain": [
       "<Figure size 432x288 with 1 Axes>"
      ]
     },
     "metadata": {},
     "output_type": "display_data"
    }
   ],
   "source": [
    "sns.scatterplot('x','y',hue='species', data=df)"
   ]
  },
  {
   "cell_type": "code",
   "execution_count": 7,
   "metadata": {},
   "outputs": [
    {
     "data": {
      "application/vnd.vegalite.v2+json": {
       "$schema": "https://vega.github.io/schema/vega-lite/v2.6.0.json",
       "config": {
        "view": {
         "height": 300,
         "width": 400
        }
       },
       "datasets": {
        "data-7d5c95d2a1667fa4bf7d2dd432a1e582": [
         {
          "petal_length": 1.4,
          "petal_width": 0.2,
          "sepal_length": 5.1,
          "sepal_width": 3.5,
          "species": "setosa",
          "x": -2.684125625969535,
          "y": 0.3193972465851018
         },
         {
          "petal_length": 1.4,
          "petal_width": 0.2,
          "sepal_length": 4.9,
          "sepal_width": 3,
          "species": "setosa",
          "x": -2.714141687294323,
          "y": -0.17700122506477986
         },
         {
          "petal_length": 1.3,
          "petal_width": 0.2,
          "sepal_length": 4.7,
          "sepal_width": 3.2,
          "species": "setosa",
          "x": -2.8889905690592954,
          "y": -0.14494942608555686
         },
         {
          "petal_length": 1.5,
          "petal_width": 0.2,
          "sepal_length": 4.6,
          "sepal_width": 3.1,
          "species": "setosa",
          "x": -2.745342855641408,
          "y": -0.31829897925191564
         },
         {
          "petal_length": 1.4,
          "petal_width": 0.2,
          "sepal_length": 5,
          "sepal_width": 3.6,
          "species": "setosa",
          "x": -2.7287165365545283,
          "y": 0.32675451293492036
         },
         {
          "petal_length": 1.7,
          "petal_width": 0.4,
          "sepal_length": 5.4,
          "sepal_width": 3.9,
          "species": "setosa",
          "x": -2.280859632844491,
          "y": 0.7413304490629153
         },
         {
          "petal_length": 1.4,
          "petal_width": 0.3,
          "sepal_length": 4.6,
          "sepal_width": 3.4,
          "species": "setosa",
          "x": -2.8205377507406073,
          "y": -0.08946138452856829
         },
         {
          "petal_length": 1.5,
          "petal_width": 0.2,
          "sepal_length": 5,
          "sepal_width": 3.4,
          "species": "setosa",
          "x": -2.626144973146631,
          "y": 0.1633849596983291
         },
         {
          "petal_length": 1.4,
          "petal_width": 0.2,
          "sepal_length": 4.4,
          "sepal_width": 2.9,
          "species": "setosa",
          "x": -2.886382731780551,
          "y": -0.5783117541867034
         },
         {
          "petal_length": 1.5,
          "petal_width": 0.1,
          "sepal_length": 4.9,
          "sepal_width": 3.1,
          "species": "setosa",
          "x": -2.672755797820952,
          "y": -0.1137742458741165
         },
         {
          "petal_length": 1.5,
          "petal_width": 0.2,
          "sepal_length": 5.4,
          "sepal_width": 3.7,
          "species": "setosa",
          "x": -2.506947090651854,
          "y": 0.6450688986485741
         },
         {
          "petal_length": 1.6,
          "petal_width": 0.2,
          "sepal_length": 4.8,
          "sepal_width": 3.4,
          "species": "setosa",
          "x": -2.612755230908721,
          "y": 0.014729939161375
         },
         {
          "petal_length": 1.4,
          "petal_width": 0.1,
          "sepal_length": 4.8,
          "sepal_width": 3,
          "species": "setosa",
          "x": -2.786109266188016,
          "y": -0.23511200020171813
         },
         {
          "petal_length": 1.1,
          "petal_width": 0.1,
          "sepal_length": 4.3,
          "sepal_width": 3,
          "species": "setosa",
          "x": -3.2238037438656497,
          "y": -0.5113945870063816
         },
         {
          "petal_length": 1.2,
          "petal_width": 0.2,
          "sepal_length": 5.8,
          "sepal_width": 4,
          "species": "setosa",
          "x": -2.644750389942028,
          "y": 1.1787646364375755
         },
         {
          "petal_length": 1.5,
          "petal_width": 0.4,
          "sepal_length": 5.7,
          "sepal_width": 4.4,
          "species": "setosa",
          "x": -2.386039033531131,
          "y": 1.3380623304006525
         },
         {
          "petal_length": 1.3,
          "petal_width": 0.4,
          "sepal_length": 5.4,
          "sepal_width": 3.9,
          "species": "setosa",
          "x": -2.6235278752244247,
          "y": 0.8106795141812578
         },
         {
          "petal_length": 1.4,
          "petal_width": 0.3,
          "sepal_length": 5.1,
          "sepal_width": 3.5,
          "species": "setosa",
          "x": -2.6482967062543796,
          "y": 0.3118491445933551
         },
         {
          "petal_length": 1.7,
          "petal_width": 0.3,
          "sepal_length": 5.7,
          "sepal_width": 3.8,
          "species": "setosa",
          "x": -2.1998203236175784,
          "y": 0.8728390389622113
         },
         {
          "petal_length": 1.5,
          "petal_width": 0.3,
          "sepal_length": 5.1,
          "sepal_width": 3.8,
          "species": "setosa",
          "x": -2.5879863998787664,
          "y": 0.5135603087492775
         },
         {
          "petal_length": 1.7,
          "petal_width": 0.2,
          "sepal_length": 5.4,
          "sepal_width": 3.4,
          "species": "setosa",
          "x": -2.3102562152425166,
          "y": 0.3913459356538945
         },
         {
          "petal_length": 1.5,
          "petal_width": 0.4,
          "sepal_length": 5.1,
          "sepal_width": 3.7,
          "species": "setosa",
          "x": -2.5437052287571547,
          "y": 0.43299606327902856
         },
         {
          "petal_length": 1,
          "petal_width": 0.2,
          "sepal_length": 4.6,
          "sepal_width": 3.6,
          "species": "setosa",
          "x": -3.21593941564861,
          "y": 0.1334680695385263
         },
         {
          "petal_length": 1.7,
          "petal_width": 0.5,
          "sepal_length": 5.1,
          "sepal_width": 3.3,
          "species": "setosa",
          "x": -2.302733182226205,
          "y": 0.09870885481409991
         },
         {
          "petal_length": 1.9,
          "petal_width": 0.2,
          "sepal_length": 4.8,
          "sepal_width": 3.4,
          "species": "setosa",
          "x": -2.355754049123771,
          "y": -0.037281859677382005
         },
         {
          "petal_length": 1.6,
          "petal_width": 0.2,
          "sepal_length": 5,
          "sepal_width": 3,
          "species": "setosa",
          "x": -2.50666890692582,
          "y": -0.1460168804952674
         },
         {
          "petal_length": 1.6,
          "petal_width": 0.4,
          "sepal_length": 5,
          "sepal_width": 3.4,
          "species": "setosa",
          "x": -2.468820073121337,
          "y": 0.1309514894352507
         },
         {
          "petal_length": 1.5,
          "petal_width": 0.2,
          "sepal_length": 5.2,
          "sepal_width": 3.5,
          "species": "setosa",
          "x": -2.5623199061960142,
          "y": 0.3677188574342003
         },
         {
          "petal_length": 1.4,
          "petal_width": 0.2,
          "sepal_length": 5.2,
          "sepal_width": 3.4,
          "species": "setosa",
          "x": -2.6395347153845403,
          "y": 0.31203998023528323
         },
         {
          "petal_length": 1.6,
          "petal_width": 0.2,
          "sepal_length": 4.7,
          "sepal_width": 3.2,
          "species": "setosa",
          "x": -2.631989387274344,
          "y": -0.19696122492431414
         },
         {
          "petal_length": 1.6,
          "petal_width": 0.2,
          "sepal_length": 4.8,
          "sepal_width": 3.1,
          "species": "setosa",
          "x": -2.5873984766893505,
          "y": -0.204318491274133
         },
         {
          "petal_length": 1.5,
          "petal_width": 0.4,
          "sepal_length": 5.4,
          "sepal_width": 3.4,
          "species": "setosa",
          "x": -2.409932497002173,
          "y": 0.4109242642295732
         },
         {
          "petal_length": 1.5,
          "petal_width": 0.1,
          "sepal_length": 5.2,
          "sepal_width": 4.1,
          "species": "setosa",
          "x": -2.6488623343499107,
          "y": 0.8133638202969626
         },
         {
          "petal_length": 1.4,
          "petal_width": 0.2,
          "sepal_length": 5.5,
          "sepal_width": 4.2,
          "species": "setosa",
          "x": -2.5987367491005853,
          "y": 1.0931457594493572
         },
         {
          "petal_length": 1.5,
          "petal_width": 0.2,
          "sepal_length": 4.9,
          "sepal_width": 3.1,
          "species": "setosa",
          "x": -2.636926878105797,
          "y": -0.12132234786586282
         },
         {
          "petal_length": 1.2,
          "petal_width": 0.2,
          "sepal_length": 5,
          "sepal_width": 3.2,
          "species": "setosa",
          "x": -2.8662416521186675,
          "y": 0.0693644715800809
         },
         {
          "petal_length": 1.3,
          "petal_width": 0.2,
          "sepal_length": 5.5,
          "sepal_width": 3.5,
          "species": "setosa",
          "x": -2.6252380498503705,
          "y": 0.599370021379424
         },
         {
          "petal_length": 1.4,
          "petal_width": 0.1,
          "sepal_length": 4.9,
          "sepal_width": 3.6,
          "species": "setosa",
          "x": -2.8006841154482203,
          "y": 0.2686437377979828
         },
         {
          "petal_length": 1.3,
          "petal_width": 0.2,
          "sepal_length": 4.4,
          "sepal_width": 3,
          "species": "setosa",
          "x": -2.9805020437819914,
          "y": -0.48795834442861497
         },
         {
          "petal_length": 1.5,
          "petal_width": 0.2,
          "sepal_length": 5.1,
          "sepal_width": 3.4,
          "species": "setosa",
          "x": -2.590006313968094,
          "y": 0.22904383682701301
         },
         {
          "petal_length": 1.3,
          "petal_width": 0.3,
          "sepal_length": 5,
          "sepal_width": 3.5,
          "species": "setosa",
          "x": -2.7701024260278992,
          "y": 0.26352753374425686
         },
         {
          "petal_length": 1.3,
          "petal_width": 0.3,
          "sepal_length": 4.5,
          "sepal_width": 2.3,
          "species": "setosa",
          "x": -2.8493687050431005,
          "y": -0.9409605736411965
         },
         {
          "petal_length": 1.3,
          "petal_width": 0.2,
          "sepal_length": 4.4,
          "sepal_width": 3.2,
          "species": "setosa",
          "x": -2.9974065465949056,
          "y": -0.3419260574716094
         },
         {
          "petal_length": 1.6,
          "petal_width": 0.6,
          "sepal_length": 5,
          "sepal_width": 3.5,
          "species": "setosa",
          "x": -2.405614485097484,
          "y": 0.18887142893026085
         },
         {
          "petal_length": 1.9,
          "petal_width": 0.4,
          "sepal_length": 5.1,
          "sepal_width": 3.8,
          "species": "setosa",
          "x": -2.2094892377836777,
          "y": 0.4366631416391884
         },
         {
          "petal_length": 1.4,
          "petal_width": 0.3,
          "sepal_length": 4.8,
          "sepal_width": 3,
          "species": "setosa",
          "x": -2.7144514267577056,
          "y": -0.2502082041852108
         },
         {
          "petal_length": 1.6,
          "petal_width": 0.2,
          "sepal_length": 5.1,
          "sepal_width": 3.8,
          "species": "setosa",
          "x": -2.5381482589989384,
          "y": 0.5037711444614381
         },
         {
          "petal_length": 1.4,
          "petal_width": 0.2,
          "sepal_length": 4.6,
          "sepal_width": 3.2,
          "species": "setosa",
          "x": -2.839462167642848,
          "y": -0.22794556949382716
         },
         {
          "petal_length": 1.5,
          "petal_width": 0.2,
          "sepal_length": 5.3,
          "sepal_width": 3.7,
          "species": "setosa",
          "x": -2.543085749830391,
          "y": 0.5794100215198899
         },
         {
          "petal_length": 1.4,
          "petal_width": 0.2,
          "sepal_length": 5,
          "sepal_width": 3.3,
          "species": "setosa",
          "x": -2.7033597823351574,
          "y": 0.10770608249941199
         },
         {
          "petal_length": 4.7,
          "petal_width": 1.4,
          "sepal_length": 7,
          "sepal_width": 3.2,
          "species": "versicolor",
          "x": 1.2848256888583531,
          "y": 0.6851604704673085
         },
         {
          "petal_length": 4.5,
          "petal_width": 1.5,
          "sepal_length": 6.4,
          "sepal_width": 3.2,
          "species": "versicolor",
          "x": 0.9324885323123201,
          "y": 0.31833363826262906
         },
         {
          "petal_length": 4.9,
          "petal_width": 1.5,
          "sepal_length": 6.9,
          "sepal_width": 3.1,
          "species": "versicolor",
          "x": 1.4643023219913958,
          "y": 0.5042628153092042
         },
         {
          "petal_length": 4,
          "petal_width": 1.3,
          "sepal_length": 5.5,
          "sepal_width": 2.3,
          "species": "versicolor",
          "x": 0.18331771995837276,
          "y": -0.8279590118206319
         },
         {
          "petal_length": 4.6,
          "petal_width": 1.5,
          "sepal_length": 6.5,
          "sepal_width": 2.8,
          "species": "versicolor",
          "x": 1.0881032577116676,
          "y": 0.07459067519771623
         },
         {
          "petal_length": 4.5,
          "petal_width": 1.3,
          "sepal_length": 5.7,
          "sepal_width": 2.8,
          "species": "versicolor",
          "x": 0.6416690842580797,
          "y": -0.4182468715686785
         },
         {
          "petal_length": 4.7,
          "petal_width": 1.6,
          "sepal_length": 6.3,
          "sepal_width": 3.3,
          "species": "versicolor",
          "x": 1.0950606626324484,
          "y": 0.2834682700615293
         },
         {
          "petal_length": 3.3,
          "petal_width": 1,
          "sepal_length": 4.9,
          "sepal_width": 2.4,
          "species": "versicolor",
          "x": -0.7491226698296551,
          "y": -1.004890961181895
         },
         {
          "petal_length": 4.6,
          "petal_width": 1.3,
          "sepal_length": 6.6,
          "sepal_width": 2.9,
          "species": "versicolor",
          "x": 1.0441318260534376,
          "y": 0.22836189978839566
         },
         {
          "petal_length": 3.9,
          "petal_width": 1.4,
          "sepal_length": 5.2,
          "sepal_width": 2.7,
          "species": "versicolor",
          "x": -0.008745404082894245,
          "y": -0.7230819050048337
         },
         {
          "petal_length": 3.5,
          "petal_width": 1,
          "sepal_length": 5,
          "sepal_width": 2,
          "species": "versicolor",
          "x": -0.5078408838353236,
          "y": -1.2659711905263933
         },
         {
          "petal_length": 4.2,
          "petal_width": 1.5,
          "sepal_length": 5.9,
          "sepal_width": 3,
          "species": "versicolor",
          "x": 0.5116985574475992,
          "y": -0.10398123549904012
         },
         {
          "petal_length": 4,
          "petal_width": 1,
          "sepal_length": 6,
          "sepal_width": 2.2,
          "species": "versicolor",
          "x": 0.26497650811204854,
          "y": -0.5500364636804747
         },
         {
          "petal_length": 4.7,
          "petal_width": 1.4,
          "sepal_length": 6.1,
          "sepal_width": 2.9,
          "species": "versicolor",
          "x": 0.9849345104708919,
          "y": -0.12481785412635717
         },
         {
          "petal_length": 3.6,
          "petal_width": 1.3,
          "sepal_length": 5.6,
          "sepal_width": 2.9,
          "species": "versicolor",
          "x": -0.1739253716817659,
          "y": -0.25485420870258896
         },
         {
          "petal_length": 4.4,
          "petal_width": 1.4,
          "sepal_length": 6.7,
          "sepal_width": 3.1,
          "species": "versicolor",
          "x": 0.9278607809442488,
          "y": 0.4671794944415105
         },
         {
          "petal_length": 4.5,
          "petal_width": 1.5,
          "sepal_length": 5.6,
          "sepal_width": 3,
          "species": "versicolor",
          "x": 0.6602837616969388,
          "y": -0.35296966572385
         },
         {
          "petal_length": 4.1,
          "petal_width": 1,
          "sepal_length": 5.8,
          "sepal_width": 2.7,
          "species": "versicolor",
          "x": 0.23610499331767346,
          "y": -0.3336107668249152
         },
         {
          "petal_length": 4.5,
          "petal_width": 1.5,
          "sepal_length": 6.2,
          "sepal_width": 2.2,
          "species": "versicolor",
          "x": 0.9447337280198151,
          "y": -0.5431455507797665
         },
         {
          "petal_length": 3.9,
          "petal_width": 1.1,
          "sepal_length": 5.6,
          "sepal_width": 2.5,
          "species": "versicolor",
          "x": 0.04522697629870185,
          "y": -0.5838343774718642
         },
         {
          "petal_length": 4.8,
          "petal_width": 1.8,
          "sepal_length": 5.9,
          "sepal_width": 3.2,
          "species": "versicolor",
          "x": 1.1162831773500512,
          "y": -0.08461685219478762
         },
         {
          "petal_length": 4,
          "petal_width": 1.3,
          "sepal_length": 6.1,
          "sepal_width": 2.8,
          "species": "versicolor",
          "x": 0.35788841799730914,
          "y": -0.06892503165601375
         },
         {
          "petal_length": 4.9,
          "petal_width": 1.5,
          "sepal_length": 6.3,
          "sepal_width": 2.5,
          "species": "versicolor",
          "x": 1.2981838753589157,
          "y": -0.3277873083339173
         },
         {
          "petal_length": 4.7,
          "petal_width": 1.2,
          "sepal_length": 6.1,
          "sepal_width": 2.8,
          "species": "versicolor",
          "x": 0.9217289224470387,
          "y": -0.18273779362136724
         },
         {
          "petal_length": 4.3,
          "petal_width": 1.3,
          "sepal_length": 6.4,
          "sepal_width": 2.9,
          "species": "versicolor",
          "x": 0.7148533259114137,
          "y": 0.14905594436978478
         },
         {
          "petal_length": 4.4,
          "petal_width": 1.4,
          "sepal_length": 6.6,
          "sepal_width": 3,
          "species": "versicolor",
          "x": 0.900174373172169,
          "y": 0.32850447383432335
         },
         {
          "petal_length": 4.8,
          "petal_width": 1.4,
          "sepal_length": 6.8,
          "sepal_width": 2.8,
          "species": "versicolor",
          "x": 1.33202443672209,
          "y": 0.24444087601634348
         },
         {
          "petal_length": 5,
          "petal_width": 1.7,
          "sepal_length": 6.7,
          "sepal_width": 3,
          "species": "versicolor",
          "x": 1.557802155066072,
          "y": 0.26749544731025465
         },
         {
          "petal_length": 4.5,
          "petal_width": 1.5,
          "sepal_length": 6,
          "sepal_width": 2.9,
          "species": "versicolor",
          "x": 0.8132906498175432,
          "y": -0.16335030068761602
         },
         {
          "petal_length": 3.5,
          "petal_width": 1,
          "sepal_length": 5.7,
          "sepal_width": 2.6,
          "species": "versicolor",
          "x": -0.3055837780243069,
          "y": -0.3682621897545878
         },
         {
          "petal_length": 3.8,
          "petal_width": 1.1,
          "sepal_length": 5.5,
          "sepal_width": 2.4,
          "species": "versicolor",
          "x": -0.06812649206836147,
          "y": -0.7051721317994653
         },
         {
          "petal_length": 3.7,
          "petal_width": 1,
          "sepal_length": 5.5,
          "sepal_width": 2.4,
          "species": "versicolor",
          "x": -0.18962247237849977,
          "y": -0.6802867635281332
         },
         {
          "petal_length": 3.9,
          "petal_width": 1.2,
          "sepal_length": 5.8,
          "sepal_width": 2.7,
          "species": "versicolor",
          "x": 0.13642871155801686,
          "y": -0.31403243824923655
         },
         {
          "petal_length": 5.1,
          "petal_width": 1.6,
          "sepal_length": 6,
          "sepal_width": 2.7,
          "species": "versicolor",
          "x": 1.3800264359155128,
          "y": -0.4209542873138817
         },
         {
          "petal_length": 4.5,
          "petal_width": 1.5,
          "sepal_length": 5.4,
          "sepal_width": 3,
          "species": "versicolor",
          "x": 0.5880064433398651,
          "y": -0.4842874199812179
         },
         {
          "petal_length": 4.5,
          "petal_width": 1.6,
          "sepal_length": 6,
          "sepal_width": 3.4,
          "species": "versicolor",
          "x": 0.806858312500414,
          "y": 0.19418231471315126
         },
         {
          "petal_length": 4.7,
          "petal_width": 1.5,
          "sepal_length": 6.7,
          "sepal_width": 3.1,
          "species": "versicolor",
          "x": 1.2206908824443543,
          "y": 0.4076195936110071
         },
         {
          "petal_length": 4.4,
          "petal_width": 1.3,
          "sepal_length": 6.3,
          "sepal_width": 2.3,
          "species": "versicolor",
          "x": 0.8150952357666016,
          "y": -0.37203705990950175
         },
         {
          "petal_length": 4.1,
          "petal_width": 1.3,
          "sepal_length": 5.6,
          "sepal_width": 3,
          "species": "versicolor",
          "x": 0.24595767988669437,
          "y": -0.26852439662201455
         },
         {
          "petal_length": 4,
          "petal_width": 1.3,
          "sepal_length": 5.5,
          "sepal_width": 2.5,
          "species": "versicolor",
          "x": 0.16641321714545876,
          "y": -0.6819267248636264
         },
         {
          "petal_length": 4.4,
          "petal_width": 1.2,
          "sepal_length": 5.5,
          "sepal_width": 2.6,
          "species": "versicolor",
          "x": 0.464800288403781,
          "y": -0.67071154451172
         },
         {
          "petal_length": 4.6,
          "petal_width": 1.4,
          "sepal_length": 6.1,
          "sepal_width": 3,
          "species": "versicolor",
          "x": 0.8908151984694511,
          "y": -0.03446444436826863
         },
         {
          "petal_length": 4,
          "petal_width": 1.2,
          "sepal_length": 5.8,
          "sepal_width": 2.6,
          "species": "versicolor",
          "x": 0.23054802355945733,
          "y": -0.40438584800732497
         },
         {
          "petal_length": 3.3,
          "petal_width": 1,
          "sepal_length": 5,
          "sepal_width": 2.3,
          "species": "versicolor",
          "x": -0.7045317592446614,
          "y": -1.012248227531714
         },
         {
          "petal_length": 4.2,
          "petal_width": 1.3,
          "sepal_length": 5.6,
          "sepal_width": 2.7,
          "species": "versicolor",
          "x": 0.3569814947010488,
          "y": -0.5049100933371082
         },
         {
          "petal_length": 4.2,
          "petal_width": 1.2,
          "sepal_length": 5.7,
          "sepal_width": 3,
          "species": "versicolor",
          "x": 0.3319344799450601,
          "y": -0.21265468378116945
         },
         {
          "petal_length": 4.2,
          "petal_width": 1.3,
          "sepal_length": 5.7,
          "sepal_width": 2.9,
          "species": "versicolor",
          "x": 0.37621565106667226,
          "y": -0.2932189292514186
         },
         {
          "petal_length": 4.3,
          "petal_width": 1.3,
          "sepal_length": 6.2,
          "sepal_width": 2.9,
          "species": "versicolor",
          "x": 0.6425760075543397,
          "y": 0.017738190112416445
         },
         {
          "petal_length": 3,
          "petal_width": 1.1,
          "sepal_length": 5.1,
          "sepal_width": 2.5,
          "species": "versicolor",
          "x": -0.9064698649488337,
          "y": -0.7560933665990138
         },
         {
          "petal_length": 4.1,
          "petal_width": 1.3,
          "sepal_length": 5.7,
          "sepal_width": 2.8,
          "species": "versicolor",
          "x": 0.2990008418781451,
          "y": -0.34889780645033563
         },
         {
          "petal_length": 6,
          "petal_width": 2.5,
          "sepal_length": 6.3,
          "sepal_width": 3.3,
          "species": "virginica",
          "x": 2.5311927278036292,
          "y": -0.009849109498801648
         },
         {
          "petal_length": 5.1,
          "petal_width": 1.9,
          "sepal_length": 5.8,
          "sepal_width": 2.7,
          "species": "virginica",
          "x": 1.4152358767039042,
          "y": -0.574916347546489
         },
         {
          "petal_length": 5.9,
          "petal_width": 2.1,
          "sepal_length": 7.1,
          "sepal_width": 3,
          "species": "virginica",
          "x": 2.616676015995691,
          "y": 0.3439031513417343
         },
         {
          "petal_length": 5.6,
          "petal_width": 1.8,
          "sepal_length": 6.3,
          "sepal_width": 2.9,
          "species": "virginica",
          "x": 1.9715310530434371,
          "y": -0.17972790435224525
         },
         {
          "petal_length": 5.8,
          "petal_width": 2.2,
          "sepal_length": 6.5,
          "sepal_width": 3,
          "species": "virginica",
          "x": 2.3500059200446417,
          "y": -0.04026094714253081
         },
         {
          "petal_length": 6.6,
          "petal_width": 2.1,
          "sepal_length": 7.6,
          "sepal_width": 3,
          "species": "virginica",
          "x": 3.39703873605326,
          "y": 0.5508366730280554
         },
         {
          "petal_length": 4.5,
          "petal_width": 1.7,
          "sepal_length": 4.9,
          "sepal_width": 2.5,
          "species": "virginica",
          "x": 0.5212322439097755,
          "y": -1.1927587270006448
         },
         {
          "petal_length": 6.3,
          "petal_width": 1.8,
          "sepal_length": 7.3,
          "sepal_width": 2.9,
          "species": "virginica",
          "x": 2.93258706899369,
          "y": 0.3555000029774962
         },
         {
          "petal_length": 5.8,
          "petal_width": 1.8,
          "sepal_length": 6.7,
          "sepal_width": 2.5,
          "species": "virginica",
          "x": 2.321228816573379,
          "y": -0.24383150231069067
         },
         {
          "petal_length": 6.1,
          "petal_width": 2.5,
          "sepal_length": 7.2,
          "sepal_width": 3.6,
          "species": "virginica",
          "x": 2.916750966786074,
          "y": 0.7827919488152787
         },
         {
          "petal_length": 5.1,
          "petal_width": 2,
          "sepal_length": 6.5,
          "sepal_width": 3.2,
          "species": "virginica",
          "x": 1.6617741536365331,
          "y": 0.24222840775506718
         },
         {
          "petal_length": 5.3,
          "petal_width": 1.9,
          "sepal_length": 6.4,
          "sepal_width": 2.7,
          "species": "virginica",
          "x": 1.8034019529650929,
          "y": -0.21563761733355527
         },
         {
          "petal_length": 5.5,
          "petal_width": 2.1,
          "sepal_length": 6.8,
          "sepal_width": 3,
          "species": "virginica",
          "x": 2.1655917960801467,
          "y": 0.21627558507402483
         },
         {
          "petal_length": 5,
          "petal_width": 2,
          "sepal_length": 5.7,
          "sepal_width": 2.5,
          "species": "virginica",
          "x": 1.3461635794584532,
          "y": -0.7768183473443392
         },
         {
          "petal_length": 5.1,
          "petal_width": 2.4,
          "sepal_length": 5.8,
          "sepal_width": 2.8,
          "species": "virginica",
          "x": 1.5859282238732222,
          "y": -0.5396407140267183
         },
         {
          "petal_length": 5.3,
          "petal_width": 2.3,
          "sepal_length": 6.4,
          "sepal_width": 3.2,
          "species": "virginica",
          "x": 1.9044563747934284,
          "y": 0.1192506920919729
         },
         {
          "petal_length": 5.5,
          "petal_width": 1.8,
          "sepal_length": 6.5,
          "sepal_width": 3,
          "species": "virginica",
          "x": 1.9496890593990706,
          "y": 0.041943259663211566
         },
         {
          "petal_length": 6.7,
          "petal_width": 2.2,
          "sepal_length": 7.7,
          "sepal_width": 3.8,
          "species": "virginica",
          "x": 3.4870553642902804,
          "y": 1.175739329713429
         },
         {
          "petal_length": 6.9,
          "petal_width": 2.3,
          "sepal_length": 7.7,
          "sepal_width": 2.6,
          "species": "virginica",
          "x": 3.795645422072885,
          "y": 0.2573229734204791
         },
         {
          "petal_length": 5,
          "petal_width": 1.5,
          "sepal_length": 6,
          "sepal_width": 2.2,
          "species": "virginica",
          "x": 1.300791712637659,
          "y": -0.7611496364350631
         },
         {
          "petal_length": 5.7,
          "petal_width": 2.3,
          "sepal_length": 6.9,
          "sepal_width": 3.2,
          "species": "virginica",
          "x": 2.427817913066047,
          "y": 0.3781960126170508
         },
         {
          "petal_length": 4.9,
          "petal_width": 2,
          "sepal_length": 5.6,
          "sepal_width": 2.8,
          "species": "virginica",
          "x": 1.199001105465562,
          "y": -0.6060915277579301
         },
         {
          "petal_length": 6.7,
          "petal_width": 2,
          "sepal_length": 7.7,
          "sepal_width": 2.8,
          "species": "virginica",
          "x": 3.499920038924539,
          "y": 0.46067409891189487
         },
         {
          "petal_length": 4.9,
          "petal_width": 1.8,
          "sepal_length": 6.3,
          "sepal_width": 2.7,
          "species": "virginica",
          "x": 1.3887661316914668,
          "y": -0.20439932735215074
         },
         {
          "petal_length": 5.7,
          "petal_width": 2.1,
          "sepal_length": 6.7,
          "sepal_width": 3.3,
          "species": "virginica",
          "x": 2.2754305038722062,
          "y": 0.3349906058216775
         },
         {
          "petal_length": 6,
          "petal_width": 1.8,
          "sepal_length": 7.2,
          "sepal_width": 3.2,
          "species": "virginica",
          "x": 2.614090473810833,
          "y": 0.5609013551230777
         },
         {
          "petal_length": 4.8,
          "petal_width": 1.8,
          "sepal_length": 6.2,
          "sepal_width": 2.8,
          "species": "virginica",
          "x": 1.2585081605114894,
          "y": -0.17970479472274642
         },
         {
          "petal_length": 4.9,
          "petal_width": 1.8,
          "sepal_length": 6.1,
          "sepal_width": 3,
          "species": "virginica",
          "x": 1.2911320591150226,
          "y": -0.11666865117401116
         },
         {
          "petal_length": 5.6,
          "petal_width": 2.1,
          "sepal_length": 6.4,
          "sepal_width": 2.8,
          "species": "virginica",
          "x": 2.1236087227738962,
          "y": -0.2097294766773025
         },
         {
          "petal_length": 5.8,
          "petal_width": 1.6,
          "sepal_length": 7.2,
          "sepal_width": 3,
          "species": "virginica",
          "x": 2.388003016003469,
          "y": 0.46463980470873634
         },
         {
          "petal_length": 6.1,
          "petal_width": 1.9,
          "sepal_length": 7.4,
          "sepal_width": 2.8,
          "species": "virginica",
          "x": 2.8416727781038715,
          "y": 0.37526916719510317
         },
         {
          "petal_length": 6.4,
          "petal_width": 2,
          "sepal_length": 7.9,
          "sepal_width": 3.8,
          "species": "virginica",
          "x": 3.230673661432094,
          "y": 1.3741650867930473
         },
         {
          "petal_length": 5.6,
          "petal_width": 2.2,
          "sepal_length": 6.4,
          "sepal_width": 2.8,
          "species": "virginica",
          "x": 2.1594376424890513,
          "y": -0.21727757866904887
         },
         {
          "petal_length": 5.1,
          "petal_width": 1.5,
          "sepal_length": 6.3,
          "sepal_width": 2.8,
          "species": "virginica",
          "x": 1.4441612423295112,
          "y": -0.14341341045758052
         },
         {
          "petal_length": 5.6,
          "petal_width": 1.4,
          "sepal_length": 6.1,
          "sepal_width": 2.6,
          "species": "virginica",
          "x": 1.7812948100451136,
          "y": -0.49990168107813626
         },
         {
          "petal_length": 6.1,
          "petal_width": 2.3,
          "sepal_length": 7.7,
          "sepal_width": 3,
          "species": "virginica",
          "x": 3.076499931687189,
          "y": 0.6880856775711754
         },
         {
          "petal_length": 5.6,
          "petal_width": 2.4,
          "sepal_length": 6.3,
          "sepal_width": 3.4,
          "species": "virginica",
          "x": 2.144243314302083,
          "y": 0.14006420108979042
         },
         {
          "petal_length": 5.5,
          "petal_width": 1.8,
          "sepal_length": 6.4,
          "sepal_width": 3.1,
          "species": "virginica",
          "x": 1.9050981488140775,
          "y": 0.04930052601303045
         },
         {
          "petal_length": 4.8,
          "petal_width": 1.8,
          "sepal_length": 6,
          "sepal_width": 3,
          "species": "virginica",
          "x": 1.1693263393415017,
          "y": -0.16499026202310926
         },
         {
          "petal_length": 5.4,
          "petal_width": 2.1,
          "sepal_length": 6.9,
          "sepal_width": 3.1,
          "species": "virginica",
          "x": 2.1076111432572437,
          "y": 0.37228787196079777
         },
         {
          "petal_length": 5.6,
          "petal_width": 2.4,
          "sepal_length": 6.7,
          "sepal_width": 3.1,
          "species": "virginica",
          "x": 2.314154705235601,
          "y": 0.18365127916901905
         },
         {
          "petal_length": 5.1,
          "petal_width": 2.3,
          "sepal_length": 6.9,
          "sepal_width": 3.1,
          "species": "virginica",
          "x": 1.9222678009026024,
          "y": 0.4092034668160622
         },
         {
          "petal_length": 5.1,
          "petal_width": 1.9,
          "sepal_length": 5.8,
          "sepal_width": 2.7,
          "species": "virginica",
          "x": 1.4152358767039042,
          "y": -0.574916347546489
         },
         {
          "petal_length": 5.9,
          "petal_width": 2.3,
          "sepal_length": 6.8,
          "sepal_width": 3.2,
          "species": "virginica",
          "x": 2.563013375077477,
          "y": 0.2778626029291949
         },
         {
          "petal_length": 5.7,
          "petal_width": 2.5,
          "sepal_length": 6.7,
          "sepal_width": 3.3,
          "species": "virginica",
          "x": 2.4187461827328263,
          "y": 0.30479819785469214
         },
         {
          "petal_length": 5.2,
          "petal_width": 2.3,
          "sepal_length": 6.7,
          "sepal_width": 3,
          "species": "virginica",
          "x": 1.9441097945469694,
          "y": 0.1875323028006052
         },
         {
          "petal_length": 5,
          "petal_width": 1.9,
          "sepal_length": 6.3,
          "sepal_width": 2.5,
          "species": "virginica",
          "x": 1.5271666148145189,
          "y": -0.3753169825804883
         },
         {
          "petal_length": 5.2,
          "petal_width": 2,
          "sepal_length": 6.5,
          "sepal_width": 3,
          "species": "virginica",
          "x": 1.7643457170444306,
          "y": 0.07885885451847591
         },
         {
          "petal_length": 5.4,
          "petal_width": 2.3,
          "sepal_length": 6.2,
          "sepal_width": 3.4,
          "species": "virginica",
          "x": 1.9009416142184248,
          "y": 0.11662795851202401
         },
         {
          "petal_length": 5.1,
          "petal_width": 1.8,
          "sepal_length": 5.9,
          "sepal_width": 3,
          "species": "virginica",
          "x": 1.3901888619479155,
          "y": -0.28266093799055014
         }
        ]
       },
       "hconcat": [
        {
         "data": {
          "name": "data-7d5c95d2a1667fa4bf7d2dd432a1e582"
         },
         "encoding": {
          "color": {
           "condition": {
            "field": "species",
            "selection": "selector001",
            "type": "nominal"
           },
           "value": "lightgray"
          },
          "x": {
           "field": "x",
           "type": "quantitative"
          },
          "y": {
           "field": "y",
           "type": "quantitative"
          }
         },
         "height": 250,
         "mark": "point",
         "selection": {
          "selector001": {
           "encodings": [
            "x",
            "y"
           ],
           "mark": {
            "fill": "#333",
            "fillOpacity": 0.125,
            "stroke": "white"
           },
           "on": "[mousedown, window:mouseup] > window:mousemove!",
           "resolve": "global",
           "translate": "[mousedown, window:mouseup] > window:mousemove!",
           "type": "interval",
           "zoom": "wheel!"
          }
         },
         "width": 250
        },
        {
         "data": {
          "name": "data-7d5c95d2a1667fa4bf7d2dd432a1e582"
         },
         "encoding": {
          "color": {
           "condition": {
            "field": "species",
            "selection": "selector001",
            "type": "nominal"
           },
           "value": "lightgray"
          },
          "x": {
           "field": "sepal_length",
           "type": "quantitative"
          },
          "y": {
           "field": "sepal_width",
           "type": "quantitative"
          }
         },
         "height": 250,
         "mark": "point",
         "selection": {
          "selector001": {
           "encodings": [
            "x",
            "y"
           ],
           "mark": {
            "fill": "#333",
            "fillOpacity": 0.125,
            "stroke": "white"
           },
           "on": "[mousedown, window:mouseup] > window:mousemove!",
           "resolve": "global",
           "translate": "[mousedown, window:mouseup] > window:mousemove!",
           "type": "interval",
           "zoom": "wheel!"
          }
         },
         "width": 250
        }
       ]
      },
      "image/png": "[encoded data removed]",
      "text/plain": [
       "<VegaLite 2 object>\n",
       "\n",
       "If you see this message, it means the renderer has not been properly enabled\n",
       "for the frontend that you are using. For more information, see\n",
       "https://altair-viz.github.io/user_guide/troubleshooting.html\n"
      ]
     },
     "execution_count": 7,
     "metadata": {},
     "output_type": "execute_result"
    }
   ],
   "source": [
    "# create side-by-side charts and highlight points within the plot using mouse\n",
    "brush = alt.selection_interval()\n",
    "\n",
    "chart = alt.Chart(df).mark_point().encode(\n",
    "    color=alt.condition(brush, 'species:N', alt.value('lightgray'))\n",
    ").properties(\n",
    "    width=250,\n",
    "    height=250\n",
    ").add_selection(\n",
    "    brush\n",
    ")\n",
    "\n",
    "chart2 = chart.encode(x='x', y='y') | chart.encode(x='sepal_length:Q', y='sepal_width')\n",
    "chart2.save('my_plot.html')\n",
    "chart2"
   ]
  },
  {
   "cell_type": "code",
   "execution_count": null,
   "metadata": {},
   "outputs": [],
   "source": []
  }
 ],
 "metadata": {
  "kernelspec": {
   "display_name": "Python 3",
   "language": "python",
   "name": "python3"
  },
  "language_info": {
   "codemirror_mode": {
    "name": "ipython",
    "version": 3
   },
   "file_extension": ".py",
   "mimetype": "text/x-python",
   "name": "python",
   "nbconvert_exporter": "python",
   "pygments_lexer": "ipython3",
   "version": "3.6.5"
  }
 },
 "nbformat": 4,
 "nbformat_minor": 2
}
